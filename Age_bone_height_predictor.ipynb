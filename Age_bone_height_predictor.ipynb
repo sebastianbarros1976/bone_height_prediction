{
  "nbformat": 4,
  "nbformat_minor": 0,
  "metadata": {
    "colab": {
      "provenance": [],
      "machine_shape": "hm",
      "gpuType": "T4"
    },
    "kernelspec": {
      "name": "python3",
      "display_name": "Python 3"
    },
    "language_info": {
      "name": "python"
    },
    "accelerator": "GPU"
  },
  "cells": [
    {
      "cell_type": "markdown",
      "source": [
        "# 🧠 Bone Age and Final Height Prediction\n",
        "**RSNA Bone Age Challenge Dataset**\n",
        "\n",
        "This notebook uses a ConvNeXt-based model to predict bone age from hand X-ray images.  \n",
        "It then combines the predicted bone age with additional tabular features (current height, parental heights, BMI, sex) to estimate the child's final adult height.\n",
        "\n",
        "⚠️ **Important:**  \n",
        "Due to the large size of the datasets, images and annotations must be downloaded manually from the [official RSNA Bone Age Challenge dataset](https://www.rsna.org/en/education/ai-resources-and-training/ai-image-challenge/rsna-pediatric-bone-age-challenge).\n",
        "\n",
        "---\n",
        "\n",
        "# 📋 Project Structure\n",
        "\n",
        "- **Data Preparation**: Loading images and tabular data.\n",
        "- **Feature Engineering**: Preprocessing X-rays and tabular features.\n",
        "- **Model Building**: Using ConvNeXt + tabular input combined model.\n",
        "- **Training and Validation**: Predicting bone age and final height.\n",
        "- **Notes**: Dataset is not included.\n"
      ],
      "metadata": {
        "id": "CGwFiD0ou34S"
      }
    },
    {
      "cell_type": "markdown",
      "source": [
        "# 📚 Install and Import Required Libraries\n"
      ],
      "metadata": {
        "id": "rWiIulS7v771"
      }
    },
    {
      "cell_type": "code",
      "source": [
        "# 📚 Install and Import Required Libraries\n",
        "\n",
        "import os\n",
        "import zipfile\n",
        "import pandas as pd\n",
        "import numpy as np\n",
        "import matplotlib.pyplot as plt\n",
        "from PIL import Image\n",
        "from tqdm import tqdm\n",
        "\n",
        "import torch\n",
        "import torch.nn as nn\n",
        "from torch.utils.data import Dataset, DataLoader\n",
        "import torchvision.transforms as transforms\n",
        "from torchvision.models import convnext_tiny\n",
        "\n",
        "from sklearn.model_selection import train_test_split\n",
        "from sklearn.preprocessing import StandardScaler\n"
      ],
      "metadata": {
        "id": "DPVg4YGwOg7L"
      },
      "execution_count": null,
      "outputs": []
    },
    {
      "cell_type": "markdown",
      "source": [
        "# Mount Google Drive"
      ],
      "metadata": {
        "id": "prxIRXP2wBXp"
      }
    },
    {
      "cell_type": "code",
      "execution_count": null,
      "metadata": {
        "colab": {
          "base_uri": "https://localhost:8080/"
        },
        "id": "DgvhYUF-zdYn",
        "outputId": "41b3e870-3ffb-4e72-f9f0-4ca43763ee74"
      },
      "outputs": [
        {
          "output_type": "stream",
          "name": "stdout",
          "text": [
            "Mounted at /content/drive\n"
          ]
        }
      ],
      "source": [
        "# 🔗 Mount Google Drive to access dataset files\n",
        "\n",
        "from google.colab import drive\n",
        "drive.mount('/content/drive')"
      ]
    },
    {
      "cell_type": "markdown",
      "source": [
        "# Extract zip files"
      ],
      "metadata": {
        "id": "UNefOVl7w04g"
      }
    },
    {
      "cell_type": "code",
      "source": [
        "# 📂 Extract Dataset ZIP Files\n",
        "\n",
        "# Paths to ZIP files in Google Drive\n",
        "annotations_zip = \"/content/drive/MyDrive/Bone+Age+Training+Set+Annotations.zip\"\n",
        "images_zip = \"/content/drive/MyDrive/Bone+Age+Training+Set.zip\"\n",
        "\n",
        "# Paths where files will be extracted\n",
        "annotations_dir = \"/content/rsna_annotations\"\n",
        "images_dir = \"/content/xray_images\"\n",
        "\n",
        "# Create directories if they do not exist\n",
        "os.makedirs(annotations_dir, exist_ok=True)\n",
        "os.makedirs(images_dir, exist_ok=True)\n",
        "\n",
        "# Extract annotation files\n",
        "print(\"Extracting annotation files...\")\n",
        "with zipfile.ZipFile(annotations_zip, 'r') as zip_ref:\n",
        "    zip_ref.extractall(annotations_dir)\n",
        "\n",
        "# Extract image files\n",
        "print(\"Extracting image files...\")\n",
        "with zipfile.ZipFile(images_zip, 'r') as zip_ref:\n",
        "    zip_ref.extractall(images_dir)\n",
        "\n",
        "print(\"✅ Extraction completed successfully.\")\n"
      ],
      "metadata": {
        "colab": {
          "base_uri": "https://localhost:8080/"
        },
        "id": "UsULDxvIw2sp",
        "outputId": "548451c0-df92-44eb-e035-b8c29024e768"
      },
      "execution_count": null,
      "outputs": [
        {
          "output_type": "stream",
          "name": "stdout",
          "text": [
            "Extracting annotation files...\n",
            "Extracting image files...\n",
            "✅ Extraction completed successfully.\n"
          ]
        }
      ]
    },
    {
      "cell_type": "markdown",
      "source": [
        "# Load the Clean CSV and Prepare the DataFrame"
      ],
      "metadata": {
        "id": "aWNcYldwyfh_"
      }
    },
    {
      "cell_type": "code",
      "source": [
        "# 📄 Load the Clean CSV and Prepare the DataFrame\n",
        "\n",
        "import os\n",
        "import pandas as pd\n",
        "\n",
        "# Load CSV\n",
        "csv_path = \"/content/rsna_annotations/train.csv\"  # Adjust if needed\n",
        "df = pd.read_csv(csv_path)\n",
        "\n",
        "print(f\"✅ CSV loaded successfully with {len(df)} rows.\")\n",
        "\n",
        "# Add full image path correctly\n",
        "images_dir = \"/content/xray_images\"  # Base images folder\n",
        "\n",
        "df['image_path'] = df['id'].apply(lambda x: os.path.join(images_dir, \"boneage-training-dataset\", f\"{x}.png\"))\n",
        "\n",
        "# Check if 'male' column exists\n",
        "if 'male' not in df.columns:\n",
        "    raise ValueError(\"❌ The CSV does not contain the expected 'male' column.\")\n",
        "\n",
        "# ⚡ Filter rows where image file exists\n",
        "df = df[df['image_path'].apply(os.path.exists)].reset_index(drop=True)\n",
        "\n",
        "print(f\"✅ After filtering, remaining samples: {len(df)}\")\n",
        "\n",
        "# Show first few rows\n",
        "df.head()\n",
        "\n",
        "\n"
      ],
      "metadata": {
        "colab": {
          "base_uri": "https://localhost:8080/",
          "height": 242
        },
        "id": "zpPuwtosyvUm",
        "outputId": "15efc70a-a928-4447-e78e-15c8fa6374f8"
      },
      "execution_count": null,
      "outputs": [
        {
          "output_type": "stream",
          "name": "stdout",
          "text": [
            "✅ CSV loaded successfully with 12611 rows.\n",
            "✅ After filtering, remaining samples: 12611\n"
          ]
        },
        {
          "output_type": "execute_result",
          "data": {
            "text/plain": [
              "     id  boneage   male                                         image_path\n",
              "0  1377      180  False  /content/xray_images/boneage-training-dataset/...\n",
              "1  1378       12  False  /content/xray_images/boneage-training-dataset/...\n",
              "2  1379       94  False  /content/xray_images/boneage-training-dataset/...\n",
              "3  1380      120   True  /content/xray_images/boneage-training-dataset/...\n",
              "4  1381       82  False  /content/xray_images/boneage-training-dataset/..."
            ],
            "text/html": [
              "\n",
              "  <div id=\"df-52802d43-717a-40f3-8ea7-e8d22e637678\" class=\"colab-df-container\">\n",
              "    <div>\n",
              "<style scoped>\n",
              "    .dataframe tbody tr th:only-of-type {\n",
              "        vertical-align: middle;\n",
              "    }\n",
              "\n",
              "    .dataframe tbody tr th {\n",
              "        vertical-align: top;\n",
              "    }\n",
              "\n",
              "    .dataframe thead th {\n",
              "        text-align: right;\n",
              "    }\n",
              "</style>\n",
              "<table border=\"1\" class=\"dataframe\">\n",
              "  <thead>\n",
              "    <tr style=\"text-align: right;\">\n",
              "      <th></th>\n",
              "      <th>id</th>\n",
              "      <th>boneage</th>\n",
              "      <th>male</th>\n",
              "      <th>image_path</th>\n",
              "    </tr>\n",
              "  </thead>\n",
              "  <tbody>\n",
              "    <tr>\n",
              "      <th>0</th>\n",
              "      <td>1377</td>\n",
              "      <td>180</td>\n",
              "      <td>False</td>\n",
              "      <td>/content/xray_images/boneage-training-dataset/...</td>\n",
              "    </tr>\n",
              "    <tr>\n",
              "      <th>1</th>\n",
              "      <td>1378</td>\n",
              "      <td>12</td>\n",
              "      <td>False</td>\n",
              "      <td>/content/xray_images/boneage-training-dataset/...</td>\n",
              "    </tr>\n",
              "    <tr>\n",
              "      <th>2</th>\n",
              "      <td>1379</td>\n",
              "      <td>94</td>\n",
              "      <td>False</td>\n",
              "      <td>/content/xray_images/boneage-training-dataset/...</td>\n",
              "    </tr>\n",
              "    <tr>\n",
              "      <th>3</th>\n",
              "      <td>1380</td>\n",
              "      <td>120</td>\n",
              "      <td>True</td>\n",
              "      <td>/content/xray_images/boneage-training-dataset/...</td>\n",
              "    </tr>\n",
              "    <tr>\n",
              "      <th>4</th>\n",
              "      <td>1381</td>\n",
              "      <td>82</td>\n",
              "      <td>False</td>\n",
              "      <td>/content/xray_images/boneage-training-dataset/...</td>\n",
              "    </tr>\n",
              "  </tbody>\n",
              "</table>\n",
              "</div>\n",
              "    <div class=\"colab-df-buttons\">\n",
              "\n",
              "  <div class=\"colab-df-container\">\n",
              "    <button class=\"colab-df-convert\" onclick=\"convertToInteractive('df-52802d43-717a-40f3-8ea7-e8d22e637678')\"\n",
              "            title=\"Convert this dataframe to an interactive table.\"\n",
              "            style=\"display:none;\">\n",
              "\n",
              "  <svg xmlns=\"http://www.w3.org/2000/svg\" height=\"24px\" viewBox=\"0 -960 960 960\">\n",
              "    <path d=\"M120-120v-720h720v720H120Zm60-500h600v-160H180v160Zm220 220h160v-160H400v160Zm0 220h160v-160H400v160ZM180-400h160v-160H180v160Zm440 0h160v-160H620v160ZM180-180h160v-160H180v160Zm440 0h160v-160H620v160Z\"/>\n",
              "  </svg>\n",
              "    </button>\n",
              "\n",
              "  <style>\n",
              "    .colab-df-container {\n",
              "      display:flex;\n",
              "      gap: 12px;\n",
              "    }\n",
              "\n",
              "    .colab-df-convert {\n",
              "      background-color: #E8F0FE;\n",
              "      border: none;\n",
              "      border-radius: 50%;\n",
              "      cursor: pointer;\n",
              "      display: none;\n",
              "      fill: #1967D2;\n",
              "      height: 32px;\n",
              "      padding: 0 0 0 0;\n",
              "      width: 32px;\n",
              "    }\n",
              "\n",
              "    .colab-df-convert:hover {\n",
              "      background-color: #E2EBFA;\n",
              "      box-shadow: 0px 1px 2px rgba(60, 64, 67, 0.3), 0px 1px 3px 1px rgba(60, 64, 67, 0.15);\n",
              "      fill: #174EA6;\n",
              "    }\n",
              "\n",
              "    .colab-df-buttons div {\n",
              "      margin-bottom: 4px;\n",
              "    }\n",
              "\n",
              "    [theme=dark] .colab-df-convert {\n",
              "      background-color: #3B4455;\n",
              "      fill: #D2E3FC;\n",
              "    }\n",
              "\n",
              "    [theme=dark] .colab-df-convert:hover {\n",
              "      background-color: #434B5C;\n",
              "      box-shadow: 0px 1px 3px 1px rgba(0, 0, 0, 0.15);\n",
              "      filter: drop-shadow(0px 1px 2px rgba(0, 0, 0, 0.3));\n",
              "      fill: #FFFFFF;\n",
              "    }\n",
              "  </style>\n",
              "\n",
              "    <script>\n",
              "      const buttonEl =\n",
              "        document.querySelector('#df-52802d43-717a-40f3-8ea7-e8d22e637678 button.colab-df-convert');\n",
              "      buttonEl.style.display =\n",
              "        google.colab.kernel.accessAllowed ? 'block' : 'none';\n",
              "\n",
              "      async function convertToInteractive(key) {\n",
              "        const element = document.querySelector('#df-52802d43-717a-40f3-8ea7-e8d22e637678');\n",
              "        const dataTable =\n",
              "          await google.colab.kernel.invokeFunction('convertToInteractive',\n",
              "                                                    [key], {});\n",
              "        if (!dataTable) return;\n",
              "\n",
              "        const docLinkHtml = 'Like what you see? Visit the ' +\n",
              "          '<a target=\"_blank\" href=https://colab.research.google.com/notebooks/data_table.ipynb>data table notebook</a>'\n",
              "          + ' to learn more about interactive tables.';\n",
              "        element.innerHTML = '';\n",
              "        dataTable['output_type'] = 'display_data';\n",
              "        await google.colab.output.renderOutput(dataTable, element);\n",
              "        const docLink = document.createElement('div');\n",
              "        docLink.innerHTML = docLinkHtml;\n",
              "        element.appendChild(docLink);\n",
              "      }\n",
              "    </script>\n",
              "  </div>\n",
              "\n",
              "\n",
              "    <div id=\"df-8ec74653-c1c2-437f-9332-5b19febca9f4\">\n",
              "      <button class=\"colab-df-quickchart\" onclick=\"quickchart('df-8ec74653-c1c2-437f-9332-5b19febca9f4')\"\n",
              "                title=\"Suggest charts\"\n",
              "                style=\"display:none;\">\n",
              "\n",
              "<svg xmlns=\"http://www.w3.org/2000/svg\" height=\"24px\"viewBox=\"0 0 24 24\"\n",
              "     width=\"24px\">\n",
              "    <g>\n",
              "        <path d=\"M19 3H5c-1.1 0-2 .9-2 2v14c0 1.1.9 2 2 2h14c1.1 0 2-.9 2-2V5c0-1.1-.9-2-2-2zM9 17H7v-7h2v7zm4 0h-2V7h2v10zm4 0h-2v-4h2v4z\"/>\n",
              "    </g>\n",
              "</svg>\n",
              "      </button>\n",
              "\n",
              "<style>\n",
              "  .colab-df-quickchart {\n",
              "      --bg-color: #E8F0FE;\n",
              "      --fill-color: #1967D2;\n",
              "      --hover-bg-color: #E2EBFA;\n",
              "      --hover-fill-color: #174EA6;\n",
              "      --disabled-fill-color: #AAA;\n",
              "      --disabled-bg-color: #DDD;\n",
              "  }\n",
              "\n",
              "  [theme=dark] .colab-df-quickchart {\n",
              "      --bg-color: #3B4455;\n",
              "      --fill-color: #D2E3FC;\n",
              "      --hover-bg-color: #434B5C;\n",
              "      --hover-fill-color: #FFFFFF;\n",
              "      --disabled-bg-color: #3B4455;\n",
              "      --disabled-fill-color: #666;\n",
              "  }\n",
              "\n",
              "  .colab-df-quickchart {\n",
              "    background-color: var(--bg-color);\n",
              "    border: none;\n",
              "    border-radius: 50%;\n",
              "    cursor: pointer;\n",
              "    display: none;\n",
              "    fill: var(--fill-color);\n",
              "    height: 32px;\n",
              "    padding: 0;\n",
              "    width: 32px;\n",
              "  }\n",
              "\n",
              "  .colab-df-quickchart:hover {\n",
              "    background-color: var(--hover-bg-color);\n",
              "    box-shadow: 0 1px 2px rgba(60, 64, 67, 0.3), 0 1px 3px 1px rgba(60, 64, 67, 0.15);\n",
              "    fill: var(--button-hover-fill-color);\n",
              "  }\n",
              "\n",
              "  .colab-df-quickchart-complete:disabled,\n",
              "  .colab-df-quickchart-complete:disabled:hover {\n",
              "    background-color: var(--disabled-bg-color);\n",
              "    fill: var(--disabled-fill-color);\n",
              "    box-shadow: none;\n",
              "  }\n",
              "\n",
              "  .colab-df-spinner {\n",
              "    border: 2px solid var(--fill-color);\n",
              "    border-color: transparent;\n",
              "    border-bottom-color: var(--fill-color);\n",
              "    animation:\n",
              "      spin 1s steps(1) infinite;\n",
              "  }\n",
              "\n",
              "  @keyframes spin {\n",
              "    0% {\n",
              "      border-color: transparent;\n",
              "      border-bottom-color: var(--fill-color);\n",
              "      border-left-color: var(--fill-color);\n",
              "    }\n",
              "    20% {\n",
              "      border-color: transparent;\n",
              "      border-left-color: var(--fill-color);\n",
              "      border-top-color: var(--fill-color);\n",
              "    }\n",
              "    30% {\n",
              "      border-color: transparent;\n",
              "      border-left-color: var(--fill-color);\n",
              "      border-top-color: var(--fill-color);\n",
              "      border-right-color: var(--fill-color);\n",
              "    }\n",
              "    40% {\n",
              "      border-color: transparent;\n",
              "      border-right-color: var(--fill-color);\n",
              "      border-top-color: var(--fill-color);\n",
              "    }\n",
              "    60% {\n",
              "      border-color: transparent;\n",
              "      border-right-color: var(--fill-color);\n",
              "    }\n",
              "    80% {\n",
              "      border-color: transparent;\n",
              "      border-right-color: var(--fill-color);\n",
              "      border-bottom-color: var(--fill-color);\n",
              "    }\n",
              "    90% {\n",
              "      border-color: transparent;\n",
              "      border-bottom-color: var(--fill-color);\n",
              "    }\n",
              "  }\n",
              "</style>\n",
              "\n",
              "      <script>\n",
              "        async function quickchart(key) {\n",
              "          const quickchartButtonEl =\n",
              "            document.querySelector('#' + key + ' button');\n",
              "          quickchartButtonEl.disabled = true;  // To prevent multiple clicks.\n",
              "          quickchartButtonEl.classList.add('colab-df-spinner');\n",
              "          try {\n",
              "            const charts = await google.colab.kernel.invokeFunction(\n",
              "                'suggestCharts', [key], {});\n",
              "          } catch (error) {\n",
              "            console.error('Error during call to suggestCharts:', error);\n",
              "          }\n",
              "          quickchartButtonEl.classList.remove('colab-df-spinner');\n",
              "          quickchartButtonEl.classList.add('colab-df-quickchart-complete');\n",
              "        }\n",
              "        (() => {\n",
              "          let quickchartButtonEl =\n",
              "            document.querySelector('#df-8ec74653-c1c2-437f-9332-5b19febca9f4 button');\n",
              "          quickchartButtonEl.style.display =\n",
              "            google.colab.kernel.accessAllowed ? 'block' : 'none';\n",
              "        })();\n",
              "      </script>\n",
              "    </div>\n",
              "\n",
              "    </div>\n",
              "  </div>\n"
            ],
            "application/vnd.google.colaboratory.intrinsic+json": {
              "type": "dataframe",
              "variable_name": "df",
              "summary": "{\n  \"name\": \"df\",\n  \"rows\": 12611,\n  \"fields\": [\n    {\n      \"column\": \"id\",\n      \"properties\": {\n        \"dtype\": \"number\",\n        \"std\": 4108,\n        \"min\": 1377,\n        \"max\": 15610,\n        \"num_unique_values\": 12611,\n        \"samples\": [\n          10613,\n          14253,\n          3546\n        ],\n        \"semantic_type\": \"\",\n        \"description\": \"\"\n      }\n    },\n    {\n      \"column\": \"boneage\",\n      \"properties\": {\n        \"dtype\": \"number\",\n        \"std\": 41,\n        \"min\": 1,\n        \"max\": 228,\n        \"num_unique_values\": 160,\n        \"samples\": [\n          76,\n          214,\n          10\n        ],\n        \"semantic_type\": \"\",\n        \"description\": \"\"\n      }\n    },\n    {\n      \"column\": \"male\",\n      \"properties\": {\n        \"dtype\": \"boolean\",\n        \"num_unique_values\": 2,\n        \"samples\": [\n          true,\n          false\n        ],\n        \"semantic_type\": \"\",\n        \"description\": \"\"\n      }\n    },\n    {\n      \"column\": \"image_path\",\n      \"properties\": {\n        \"dtype\": \"string\",\n        \"num_unique_values\": 12611,\n        \"samples\": [\n          \"/content/xray_images/boneage-training-dataset/10613.png\",\n          \"/content/xray_images/boneage-training-dataset/14253.png\"\n        ],\n        \"semantic_type\": \"\",\n        \"description\": \"\"\n      }\n    }\n  ]\n}"
            }
          },
          "metadata": {},
          "execution_count": 4
        }
      ]
    },
    {
      "cell_type": "markdown",
      "source": [
        "# Create Custom Dataset for Bone Age Prediction (ConvNeXt-Tiny Model)"
      ],
      "metadata": {
        "id": "UiLTzJpjzd2U"
      }
    },
    {
      "cell_type": "code",
      "source": [
        "# 🛠️ Create Custom Dataset for Bone Age Prediction (ConvNeXt-Tiny Model)\n",
        "\n",
        "class BoneAgeDataset(Dataset):\n",
        "    def __init__(self, dataframe, transform=None, tabular_features=None):\n",
        "        \"\"\"\n",
        "        Args:\n",
        "            dataframe (DataFrame): Pandas DataFrame with image paths and tabular data.\n",
        "            transform (callable, optional): Optional transform to be applied on an image.\n",
        "            tabular_features (list, optional): List of tabular column names to be used as input.\n",
        "        \"\"\"\n",
        "        self.dataframe = dataframe.reset_index(drop=True)  # Reset index to avoid errors\n",
        "        self.transform = transform\n",
        "        self.tabular_features = tabular_features\n",
        "\n",
        "    def __len__(self):\n",
        "        return len(self.dataframe)\n",
        "\n",
        "    def __getitem__(self, idx):\n",
        "        # Load image\n",
        "        img_path = self.dataframe.loc[idx, 'image_path']\n",
        "        image = Image.open(img_path).convert('RGB')  # Ensure image is RGB\n",
        "\n",
        "        # Apply image transforms\n",
        "        if self.transform:\n",
        "            image = self.transform(image)\n",
        "\n",
        "        # Load tabular features\n",
        "        if self.tabular_features and len(self.tabular_features) > 0:\n",
        "            tabular_data = self.dataframe.loc[idx, self.tabular_features].values.astype(np.float32)\n",
        "            tabular_data = torch.tensor(tabular_data)\n",
        "        else:\n",
        "            tabular_data = torch.tensor([])\n",
        "\n",
        "        # Load target (bone age)\n",
        "        target = torch.tensor(self.dataframe.loc[idx, 'boneage']).float()\n",
        "\n",
        "        return image, tabular_data, target\n"
      ],
      "metadata": {
        "id": "u6MEf7khzecf"
      },
      "execution_count": null,
      "outputs": []
    },
    {
      "cell_type": "markdown",
      "source": [
        "# Define Image Transformations for ConvNeXt-Tiny"
      ],
      "metadata": {
        "id": "lVcJ4vLOzt5f"
      }
    },
    {
      "cell_type": "code",
      "source": [
        "# 🎨 Define Image Transformations for ConvNeXt-Tiny\n",
        "\n",
        "import torchvision.transforms as transforms\n",
        "\n",
        "image_transforms = transforms.Compose([\n",
        "    transforms.Resize((224, 224)),  # Resize images to 224x224\n",
        "    transforms.ToTensor(),          # Convert PIL Image to PyTorch Tensor\n",
        "    transforms.Normalize(\n",
        "        mean=[0.485, 0.456, 0.406],  # Imagenet mean\n",
        "        std=[0.229, 0.224, 0.225]    # Imagenet std\n",
        "    )\n",
        "])\n",
        "\n",
        "print(\"✅ Image transformations defined successfully.\")\n"
      ],
      "metadata": {
        "colab": {
          "base_uri": "https://localhost:8080/"
        },
        "id": "xQRzok__zp6U",
        "outputId": "894f04df-98a0-4d7e-ffd6-88eca8d5cf38"
      },
      "execution_count": null,
      "outputs": [
        {
          "output_type": "stream",
          "name": "stdout",
          "text": [
            "✅ Image transformations defined successfully.\n"
          ]
        }
      ]
    },
    {
      "cell_type": "markdown",
      "source": [
        "# ⚡ Split dataset into Training and Validation sets"
      ],
      "metadata": {
        "id": "5Q7r-Rsfz9gO"
      }
    },
    {
      "cell_type": "code",
      "source": [
        "# ⚡ Split dataset into Training and Validation sets\n",
        "\n",
        "# Define features you want to use (tabular)\n",
        "tabular_features = ['male']  # 👈 Important: use 'male', not 'sex'\n",
        "\n",
        "# Split\n",
        "train_df, val_df = train_test_split(df, test_size=0.2, random_state=42)\n",
        "\n",
        "# Create datasets\n",
        "train_dataset = BoneAgeDataset(\n",
        "    dataframe=train_df,\n",
        "    transform=image_transforms,\n",
        "    tabular_features=tabular_features\n",
        ")\n",
        "\n",
        "val_dataset = BoneAgeDataset(\n",
        "    dataframe=val_df,\n",
        "    transform=image_transforms,\n",
        "    tabular_features=tabular_features\n",
        ")\n",
        "\n",
        "# Create DataLoaders\n",
        "train_loader = DataLoader(train_dataset, batch_size=32, shuffle=True, num_workers=2)\n",
        "val_loader = DataLoader(val_dataset, batch_size=32, shuffle=False, num_workers=2)\n",
        "\n",
        "print(\"✅ Train and Validation DataLoaders are ready.\")\n"
      ],
      "metadata": {
        "colab": {
          "base_uri": "https://localhost:8080/"
        },
        "id": "89fqJJkez-Lh",
        "outputId": "3d12f2f0-fc49-4fc5-b53c-a78aea054df0"
      },
      "execution_count": null,
      "outputs": [
        {
          "output_type": "stream",
          "name": "stdout",
          "text": [
            "✅ Train and Validation DataLoaders are ready.\n"
          ]
        }
      ]
    },
    {
      "cell_type": "markdown",
      "source": [
        "# 🧠 Define the ConvNeXt-Tiny model combined with Tabular Data"
      ],
      "metadata": {
        "id": "9efjn3V60Zmi"
      }
    },
    {
      "cell_type": "code",
      "source": [
        "# ✅ Correct model matching training setup (ConvNeXt + Tabular input)\n",
        "\n",
        "import torch\n",
        "import torch.nn as nn\n",
        "from torchvision.models import convnext_tiny\n",
        "from torchvision import transforms\n",
        "from PIL import Image\n",
        "import numpy as np\n",
        "\n",
        "# Model Architecture\n",
        "class BoneAgeFullModel(nn.Module):\n",
        "    def __init__(self):\n",
        "        super(BoneAgeFullModel, self).__init__()\n",
        "\n",
        "        self.cnn = convnext_tiny(pretrained=False)\n",
        "        self.cnn.classifier = nn.Identity()  # Remove classifier head\n",
        "\n",
        "        self.tabular_net = nn.Sequential(\n",
        "            nn.Linear(1, 32),\n",
        "            nn.ReLU(),\n",
        "            nn.Linear(32, 16),\n",
        "            nn.ReLU()\n",
        "        )\n",
        "\n",
        "        self.combined_fc = nn.Sequential(\n",
        "            nn.Linear(768 + 16, 128),\n",
        "            nn.ReLU(),\n",
        "            nn.Linear(128, 1)  # Predict Bone Age\n",
        "        )\n",
        "\n",
        "    def forward(self, image, tabular):\n",
        "        img_features = self.cnn(image)\n",
        "        img_features = img_features.mean(dim=[2, 3])  # Global Average Pooling\n",
        "        tabular_features = self.tabular_net(tabular)\n",
        "        combined = torch.cat((img_features, tabular_features), dim=1)\n",
        "        output = self.combined_fc(combined)\n",
        "        return output.squeeze(1)\n",
        "\n",
        "# Device setup\n",
        "device = torch.device('cuda' if torch.cuda.is_available() else 'cpu')\n",
        "\n",
        "# Load Model\n",
        "model = BoneAgeFullModel()\n",
        "model.load_state_dict(torch.load('/content/drive/MyDrive/bone_age_project/best_model.pth', map_location=device))\n",
        "model = model.to(device)\n",
        "model.eval()\n",
        "\n",
        "# Image preprocessing (same as during training)\n",
        "image_transforms = transforms.Compose([\n",
        "    transforms.Resize((224, 224)),\n",
        "    transforms.ToTensor(),\n",
        "    transforms.Normalize(\n",
        "        mean=[0.485, 0.456, 0.406],  # Imagenet mean\n",
        "        std=[0.229, 0.224, 0.225]    # Imagenet std\n",
        "    )\n",
        "])\n",
        "\n",
        "# Prediction Function: Predict Bone Age from X-ray image\n",
        "def predict_bone_age_from_image(image_np):\n",
        "    img = Image.fromarray(image_np).convert('RGB')\n",
        "    img = image_transforms(img).unsqueeze(0).to(device)\n",
        "\n",
        "    # Create dummy input for tabular data\n",
        "    tabular_dummy = torch.zeros((1, 1)).to(device)\n",
        "\n",
        "    with torch.no_grad():\n",
        "        bone_age_months = model(img, tabular_dummy).cpu().numpy().flatten()[0]\n",
        "    return bone_age_months\n"
      ],
      "metadata": {
        "id": "yCkFle0M0aGD"
      },
      "execution_count": null,
      "outputs": []
    },
    {
      "cell_type": "markdown",
      "source": [
        "# ⚙️ Setup Optimizer, Loss Function and Device"
      ],
      "metadata": {
        "id": "KEOQZREJ3RLr"
      }
    },
    {
      "cell_type": "code",
      "source": [
        "# ⚙️ Setup Optimizer, Loss Function and Device\n",
        "\n",
        "# Set device\n",
        "device = torch.device('cuda' if torch.cuda.is_available() else 'cpu')\n",
        "print(f\"✅ Using device: {device}\")\n",
        "\n",
        "# Initialize the model\n",
        "model = BoneAgeModel(tabular_input_dim=len(tabular_features))\n",
        "model = model.to(device)\n",
        "\n",
        "# Define optimizer and loss\n",
        "optimizer = torch.optim.Adam(model.parameters(), lr=1e-4)\n",
        "criterion = nn.MSELoss()\n"
      ],
      "metadata": {
        "colab": {
          "base_uri": "https://localhost:8080/"
        },
        "id": "LPI2Yh8z0iPU",
        "outputId": "2fb3c98d-2476-4eca-8917-770fb97eb9b7"
      },
      "execution_count": null,
      "outputs": [
        {
          "output_type": "stream",
          "name": "stdout",
          "text": [
            "✅ Using device: cuda\n"
          ]
        },
        {
          "output_type": "stream",
          "name": "stderr",
          "text": [
            "/usr/local/lib/python3.11/dist-packages/torchvision/models/_utils.py:208: UserWarning: The parameter 'pretrained' is deprecated since 0.13 and may be removed in the future, please use 'weights' instead.\n",
            "  warnings.warn(\n",
            "/usr/local/lib/python3.11/dist-packages/torchvision/models/_utils.py:223: UserWarning: Arguments other than a weight enum or `None` for 'weights' are deprecated since 0.13 and may be removed in the future. The current behavior is equivalent to passing `weights=ConvNeXt_Tiny_Weights.IMAGENET1K_V1`. You can also use `weights=ConvNeXt_Tiny_Weights.DEFAULT` to get the most up-to-date weights.\n",
            "  warnings.warn(msg)\n",
            "Downloading: \"https://download.pytorch.org/models/convnext_tiny-983f1562.pth\" to /root/.cache/torch/hub/checkpoints/convnext_tiny-983f1562.pth\n",
            "100%|██████████| 109M/109M [00:00<00:00, 176MB/s] \n"
          ]
        }
      ]
    },
    {
      "cell_type": "markdown",
      "source": [
        "# 🚂 Training and Validation Loop"
      ],
      "metadata": {
        "id": "39YI0Z6-6Aq1"
      }
    },
    {
      "cell_type": "code",
      "source": [
        "# 🚂 Training and Validation Loop (Saving Best Model in Google Drive)\n",
        "\n",
        "from sklearn.metrics import mean_absolute_error\n",
        "import numpy as np\n",
        "import torch\n",
        "import os\n",
        "from tqdm import tqdm\n",
        "\n",
        "# Define path in Drive to save best model\n",
        "drive_checkpoint_path = \"/content/drive/MyDrive/bone_age_project/best_model.pth\"\n",
        "os.makedirs(os.path.dirname(drive_checkpoint_path), exist_ok=True)\n",
        "\n",
        "# Number of epochs\n",
        "num_epochs = 20\n",
        "\n",
        "# Track the best validation loss\n",
        "best_val_loss = np.inf\n",
        "\n",
        "# Lists to store history\n",
        "train_losses = []\n",
        "val_losses = []\n",
        "train_mae_scores = []\n",
        "val_mae_scores = []\n",
        "\n",
        "for epoch in range(num_epochs):\n",
        "    model.train()\n",
        "    train_loss = 0\n",
        "    train_preds = []\n",
        "    train_targets = []\n",
        "\n",
        "    for images, tabular_data, targets in tqdm(train_loader, desc=f\"Epoch {epoch+1}/{num_epochs} [Train]\"):\n",
        "        images = images.to(device)\n",
        "        tabular_data = tabular_data.to(device)\n",
        "        targets = targets.to(device)\n",
        "\n",
        "        optimizer.zero_grad()\n",
        "        outputs = model(images, tabular_data)\n",
        "        loss = criterion(outputs, targets)\n",
        "        loss.backward()\n",
        "        optimizer.step()\n",
        "\n",
        "        train_loss += loss.item() * images.size(0)\n",
        "        train_preds.extend(outputs.detach().cpu().numpy())\n",
        "        train_targets.extend(targets.detach().cpu().numpy())\n",
        "\n",
        "    train_loss /= len(train_loader.dataset)\n",
        "    train_mae = mean_absolute_error(train_targets, train_preds)\n",
        "\n",
        "    model.eval()\n",
        "    val_loss = 0\n",
        "    val_preds = []\n",
        "    val_targets = []\n",
        "\n",
        "    with torch.no_grad():\n",
        "        for images, tabular_data, targets in tqdm(val_loader, desc=f\"Epoch {epoch+1}/{num_epochs} [Val]\"):\n",
        "            images = images.to(device)\n",
        "            tabular_data = tabular_data.to(device)\n",
        "            targets = targets.to(device)\n",
        "\n",
        "            outputs = model(images, tabular_data)\n",
        "            loss = criterion(outputs, targets)\n",
        "\n",
        "            val_loss += loss.item() * images.size(0)\n",
        "            val_preds.extend(outputs.detach().cpu().numpy())\n",
        "            val_targets.extend(targets.detach().cpu().numpy())\n",
        "\n",
        "    val_loss /= len(val_loader.dataset)\n",
        "    val_mae = mean_absolute_error(val_targets, val_preds)\n",
        "\n",
        "    train_losses.append(train_loss)\n",
        "    val_losses.append(val_loss)\n",
        "    train_mae_scores.append(train_mae)\n",
        "    val_mae_scores.append(val_mae)\n",
        "\n",
        "    # Save best model directly into Google Drive\n",
        "    if val_loss < best_val_loss:\n",
        "        best_val_loss = val_loss\n",
        "        torch.save(model.state_dict(), drive_checkpoint_path)\n",
        "        print(f\"✅ Model improved and was saved in Drive at epoch {epoch+1}!\")\n",
        "\n",
        "    # Print metrics\n",
        "    print(f\"Epoch [{epoch+1}/{num_epochs}]\")\n",
        "    print(f\"Train Loss: {train_loss:.4f} | Train MAE: {train_mae:.2f}\")\n",
        "    print(f\"Val Loss:   {val_loss:.4f} | Val MAE:   {val_mae:.2f}\")\n"
      ],
      "metadata": {
        "colab": {
          "base_uri": "https://localhost:8080/"
        },
        "id": "l8cjJyoG02tA",
        "outputId": "9924b956-6a40-4c4d-b0c3-422818952e90"
      },
      "execution_count": null,
      "outputs": [
        {
          "output_type": "stream",
          "name": "stderr",
          "text": [
            "Epoch 1/20 [Train]: 100%|██████████| 316/316 [03:31<00:00,  1.49it/s]\n",
            "Epoch 1/20 [Val]: 100%|██████████| 79/79 [00:53<00:00,  1.49it/s]\n"
          ]
        },
        {
          "output_type": "stream",
          "name": "stdout",
          "text": [
            "✅ Model improved and was saved in Drive at epoch 1!\n",
            "Epoch [1/20]\n",
            "Train Loss: 2624.5379 | Train MAE: 35.14\n",
            "Val Loss:   270.8201 | Val MAE:   13.04\n"
          ]
        },
        {
          "output_type": "stream",
          "name": "stderr",
          "text": [
            "Epoch 2/20 [Train]: 100%|██████████| 316/316 [03:32<00:00,  1.49it/s]\n",
            "Epoch 2/20 [Val]: 100%|██████████| 79/79 [00:52<00:00,  1.49it/s]\n"
          ]
        },
        {
          "output_type": "stream",
          "name": "stdout",
          "text": [
            "Epoch [2/20]\n",
            "Train Loss: 281.7239 | Train MAE: 12.92\n",
            "Val Loss:   367.6647 | Val MAE:   15.84\n"
          ]
        },
        {
          "output_type": "stream",
          "name": "stderr",
          "text": [
            "Epoch 3/20 [Train]: 100%|██████████| 316/316 [03:34<00:00,  1.48it/s]\n",
            "Epoch 3/20 [Val]: 100%|██████████| 79/79 [00:52<00:00,  1.50it/s]\n"
          ]
        },
        {
          "output_type": "stream",
          "name": "stdout",
          "text": [
            "✅ Model improved and was saved in Drive at epoch 3!\n",
            "Epoch [3/20]\n",
            "Train Loss: 176.8149 | Train MAE: 10.14\n",
            "Val Loss:   209.9114 | Val MAE:   11.65\n"
          ]
        },
        {
          "output_type": "stream",
          "name": "stderr",
          "text": [
            "Epoch 4/20 [Train]: 100%|██████████| 316/316 [03:31<00:00,  1.49it/s]\n",
            "Epoch 4/20 [Val]: 100%|██████████| 79/79 [00:52<00:00,  1.49it/s]\n"
          ]
        },
        {
          "output_type": "stream",
          "name": "stdout",
          "text": [
            "✅ Model improved and was saved in Drive at epoch 4!\n",
            "Epoch [4/20]\n",
            "Train Loss: 129.9381 | Train MAE: 8.79\n",
            "Val Loss:   164.0985 | Val MAE:   10.21\n"
          ]
        },
        {
          "output_type": "stream",
          "name": "stderr",
          "text": [
            "Epoch 5/20 [Train]: 100%|██████████| 316/316 [03:31<00:00,  1.49it/s]\n",
            "Epoch 5/20 [Val]: 100%|██████████| 79/79 [00:53<00:00,  1.49it/s]\n"
          ]
        },
        {
          "output_type": "stream",
          "name": "stdout",
          "text": [
            "✅ Model improved and was saved in Drive at epoch 5!\n",
            "Epoch [5/20]\n",
            "Train Loss: 98.1772 | Train MAE: 7.41\n",
            "Val Loss:   157.6895 | Val MAE:   9.91\n"
          ]
        },
        {
          "output_type": "stream",
          "name": "stderr",
          "text": [
            "Epoch 6/20 [Train]: 100%|██████████| 316/316 [03:32<00:00,  1.48it/s]\n",
            "Epoch 6/20 [Val]: 100%|██████████| 79/79 [00:53<00:00,  1.48it/s]\n"
          ]
        },
        {
          "output_type": "stream",
          "name": "stdout",
          "text": [
            "Epoch [6/20]\n",
            "Train Loss: 62.8391 | Train MAE: 5.98\n",
            "Val Loss:   281.5324 | Val MAE:   13.92\n"
          ]
        },
        {
          "output_type": "stream",
          "name": "stderr",
          "text": [
            "Epoch 7/20 [Train]: 100%|██████████| 316/316 [03:32<00:00,  1.49it/s]\n",
            "Epoch 7/20 [Val]: 100%|██████████| 79/79 [00:52<00:00,  1.50it/s]\n"
          ]
        },
        {
          "output_type": "stream",
          "name": "stdout",
          "text": [
            "Epoch [7/20]\n",
            "Train Loss: 49.8104 | Train MAE: 5.15\n",
            "Val Loss:   189.5478 | Val MAE:   11.04\n"
          ]
        },
        {
          "output_type": "stream",
          "name": "stderr",
          "text": [
            "Epoch 8/20 [Train]: 100%|██████████| 316/316 [03:32<00:00,  1.49it/s]\n",
            "Epoch 8/20 [Val]: 100%|██████████| 79/79 [00:51<00:00,  1.52it/s]\n"
          ]
        },
        {
          "output_type": "stream",
          "name": "stdout",
          "text": [
            "Epoch [8/20]\n",
            "Train Loss: 39.4900 | Train MAE: 4.54\n",
            "Val Loss:   188.6528 | Val MAE:   10.96\n"
          ]
        },
        {
          "output_type": "stream",
          "name": "stderr",
          "text": [
            "Epoch 9/20 [Train]: 100%|██████████| 316/316 [03:26<00:00,  1.53it/s]\n",
            "Epoch 9/20 [Val]: 100%|██████████| 79/79 [00:51<00:00,  1.54it/s]\n"
          ]
        },
        {
          "output_type": "stream",
          "name": "stdout",
          "text": [
            "Epoch [9/20]\n",
            "Train Loss: 30.9327 | Train MAE: 4.00\n",
            "Val Loss:   184.9510 | Val MAE:   10.87\n"
          ]
        },
        {
          "output_type": "stream",
          "name": "stderr",
          "text": [
            "Epoch 10/20 [Train]: 100%|██████████| 316/316 [03:26<00:00,  1.53it/s]\n",
            "Epoch 10/20 [Val]: 100%|██████████| 79/79 [00:51<00:00,  1.55it/s]\n"
          ]
        },
        {
          "output_type": "stream",
          "name": "stdout",
          "text": [
            "✅ Model improved and was saved in Drive at epoch 10!\n",
            "Epoch [10/20]\n",
            "Train Loss: 30.7958 | Train MAE: 3.85\n",
            "Val Loss:   153.4124 | Val MAE:   9.79\n"
          ]
        },
        {
          "output_type": "stream",
          "name": "stderr",
          "text": [
            "Epoch 11/20 [Train]: 100%|██████████| 316/316 [03:25<00:00,  1.54it/s]\n",
            "Epoch 11/20 [Val]: 100%|██████████| 79/79 [00:50<00:00,  1.56it/s]\n"
          ]
        },
        {
          "output_type": "stream",
          "name": "stdout",
          "text": [
            "✅ Model improved and was saved in Drive at epoch 11!\n",
            "Epoch [11/20]\n",
            "Train Loss: 27.4557 | Train MAE: 3.66\n",
            "Val Loss:   138.1541 | Val MAE:   9.19\n"
          ]
        },
        {
          "output_type": "stream",
          "name": "stderr",
          "text": [
            "Epoch 12/20 [Train]: 100%|██████████| 316/316 [03:24<00:00,  1.55it/s]\n",
            "Epoch 12/20 [Val]: 100%|██████████| 79/79 [00:50<00:00,  1.56it/s]\n"
          ]
        },
        {
          "output_type": "stream",
          "name": "stdout",
          "text": [
            "Epoch [12/20]\n",
            "Train Loss: 26.8569 | Train MAE: 3.52\n",
            "Val Loss:   218.8594 | Val MAE:   12.07\n"
          ]
        },
        {
          "output_type": "stream",
          "name": "stderr",
          "text": [
            "Epoch 13/20 [Train]: 100%|██████████| 316/316 [03:24<00:00,  1.55it/s]\n",
            "Epoch 13/20 [Val]: 100%|██████████| 79/79 [00:50<00:00,  1.55it/s]\n"
          ]
        },
        {
          "output_type": "stream",
          "name": "stdout",
          "text": [
            "✅ Model improved and was saved in Drive at epoch 13!\n",
            "Epoch [13/20]\n",
            "Train Loss: 25.2660 | Train MAE: 3.56\n",
            "Val Loss:   131.9449 | Val MAE:   8.91\n"
          ]
        },
        {
          "output_type": "stream",
          "name": "stderr",
          "text": [
            "Epoch 14/20 [Train]: 100%|██████████| 316/316 [03:27<00:00,  1.52it/s]\n",
            "Epoch 14/20 [Val]: 100%|██████████| 79/79 [00:51<00:00,  1.54it/s]\n"
          ]
        },
        {
          "output_type": "stream",
          "name": "stdout",
          "text": [
            "✅ Model improved and was saved in Drive at epoch 14!\n",
            "Epoch [14/20]\n",
            "Train Loss: 23.2152 | Train MAE: 3.31\n",
            "Val Loss:   126.2534 | Val MAE:   8.70\n"
          ]
        },
        {
          "output_type": "stream",
          "name": "stderr",
          "text": [
            "Epoch 15/20 [Train]: 100%|██████████| 316/316 [03:24<00:00,  1.54it/s]\n",
            "Epoch 15/20 [Val]: 100%|██████████| 79/79 [00:51<00:00,  1.55it/s]\n"
          ]
        },
        {
          "output_type": "stream",
          "name": "stdout",
          "text": [
            "Epoch [15/20]\n",
            "Train Loss: 17.1357 | Train MAE: 3.05\n",
            "Val Loss:   158.2494 | Val MAE:   9.92\n"
          ]
        },
        {
          "output_type": "stream",
          "name": "stderr",
          "text": [
            "Epoch 16/20 [Train]: 100%|██████████| 316/316 [03:24<00:00,  1.54it/s]\n",
            "Epoch 16/20 [Val]: 100%|██████████| 79/79 [00:50<00:00,  1.55it/s]\n"
          ]
        },
        {
          "output_type": "stream",
          "name": "stdout",
          "text": [
            "Epoch [16/20]\n",
            "Train Loss: 16.5395 | Train MAE: 2.95\n",
            "Val Loss:   152.0630 | Val MAE:   9.64\n"
          ]
        },
        {
          "output_type": "stream",
          "name": "stderr",
          "text": [
            "Epoch 17/20 [Train]: 100%|██████████| 316/316 [03:23<00:00,  1.55it/s]\n",
            "Epoch 17/20 [Val]: 100%|██████████| 79/79 [00:51<00:00,  1.54it/s]\n"
          ]
        },
        {
          "output_type": "stream",
          "name": "stdout",
          "text": [
            "Epoch [17/20]\n",
            "Train Loss: 16.3875 | Train MAE: 2.93\n",
            "Val Loss:   130.6493 | Val MAE:   8.89\n"
          ]
        },
        {
          "output_type": "stream",
          "name": "stderr",
          "text": [
            "Epoch 18/20 [Train]: 100%|██████████| 316/316 [03:25<00:00,  1.54it/s]\n",
            "Epoch 18/20 [Val]: 100%|██████████| 79/79 [00:51<00:00,  1.54it/s]\n"
          ]
        },
        {
          "output_type": "stream",
          "name": "stdout",
          "text": [
            "Epoch [18/20]\n",
            "Train Loss: 15.9903 | Train MAE: 2.87\n",
            "Val Loss:   134.9231 | Val MAE:   9.12\n"
          ]
        },
        {
          "output_type": "stream",
          "name": "stderr",
          "text": [
            "Epoch 19/20 [Train]: 100%|██████████| 316/316 [03:26<00:00,  1.53it/s]\n",
            "Epoch 19/20 [Val]: 100%|██████████| 79/79 [00:51<00:00,  1.53it/s]\n"
          ]
        },
        {
          "output_type": "stream",
          "name": "stdout",
          "text": [
            "Epoch [19/20]\n",
            "Train Loss: 17.0176 | Train MAE: 3.10\n",
            "Val Loss:   135.1556 | Val MAE:   9.11\n"
          ]
        },
        {
          "output_type": "stream",
          "name": "stderr",
          "text": [
            "Epoch 20/20 [Train]: 100%|██████████| 316/316 [03:24<00:00,  1.55it/s]\n",
            "Epoch 20/20 [Val]: 100%|██████████| 79/79 [00:50<00:00,  1.55it/s]\n"
          ]
        },
        {
          "output_type": "stream",
          "name": "stdout",
          "text": [
            "✅ Model improved and was saved in Drive at epoch 20!\n",
            "Epoch [20/20]\n",
            "Train Loss: 17.8731 | Train MAE: 3.11\n",
            "Val Loss:   115.9325 | Val MAE:   8.31\n"
          ]
        }
      ]
    },
    {
      "cell_type": "markdown",
      "source": [
        "# Evaluate model"
      ],
      "metadata": {
        "id": "Y-rUUNFMIFEo"
      }
    },
    {
      "cell_type": "code",
      "source": [
        "# 🧪 Full Evaluation: Metrics + Plots\n",
        "\n",
        "import numpy as np\n",
        "import torch\n",
        "from sklearn.metrics import mean_absolute_error, mean_squared_error, r2_score\n",
        "import matplotlib.pyplot as plt\n",
        "\n",
        "# ✅ Path to your best model in Google Drive\n",
        "best_model_path = \"/content/drive/MyDrive/bone_age_project/best_model.pth\"\n",
        "\n",
        "# ✅ Re-initialize your model\n",
        "model = BoneAgeModel(tabular_input_dim=len(tabular_features))\n",
        "device = torch.device('cuda' if torch.cuda.is_available() else 'cpu')\n",
        "model = model.to(device)\n",
        "\n",
        "# ✅ Load weights (even if in CPU)\n",
        "model.load_state_dict(torch.load(best_model_path, map_location=device))\n",
        "model.eval()\n",
        "\n",
        "# ✅ Collect predictions and true targets\n",
        "val_preds = []\n",
        "val_targets = []\n",
        "\n",
        "with torch.no_grad():\n",
        "    for images, tabular_data, targets in val_loader:\n",
        "        images = images.to(device)\n",
        "        tabular_data = tabular_data.to(device)\n",
        "        targets = targets.to(device)\n",
        "\n",
        "        outputs = model(images, tabular_data)\n",
        "\n",
        "        val_preds.extend(outputs.cpu().numpy())\n",
        "        val_targets.extend(targets.cpu().numpy())\n",
        "\n",
        "# ✅ Convert lists to numpy arrays\n",
        "val_preds = np.array(val_preds)\n",
        "val_targets = np.array(val_targets)\n",
        "\n",
        "# ✅ Calculate regression metrics\n",
        "mae = mean_absolute_error(val_targets, val_preds)\n",
        "mse = mean_squared_error(val_targets, val_preds)\n",
        "r2 = r2_score(val_targets, val_preds)\n",
        "\n",
        "# ✅ Print results\n",
        "print(\"📊 Model Evaluation Metrics:\")\n",
        "print(f\"Mean Absolute Error (MAE): {mae:.2f} months\")\n",
        "print(f\"Mean Squared Error (MSE): {mse:.2f}\")\n",
        "print(f\"R2 Score: {r2:.4f}\")\n",
        "\n",
        "# 📈 Scatter Plot: Predicted vs True\n",
        "plt.figure(figsize=(8,6))\n",
        "plt.scatter(val_targets, val_preds, alpha=0.5)\n",
        "plt.plot([val_targets.min(), val_targets.max()], [val_targets.min(), val_targets.max()], 'r--', lw=2)\n",
        "plt.xlabel('True Bone Age (months)')\n",
        "plt.ylabel('Predicted Bone Age (months)')\n",
        "plt.title('Predicted vs True Bone Age')\n",
        "plt.grid(True)\n",
        "plt.show()\n",
        "\n",
        "# 📈 Histogram of Errors\n",
        "errors = val_preds - val_targets\n",
        "plt.figure(figsize=(8,6))\n",
        "plt.hist(errors, bins=50, edgecolor='k', alpha=0.7)\n",
        "plt.xlabel('Prediction Error (months)')\n",
        "plt.ylabel('Frequency')\n",
        "plt.title('Distribution of Prediction Errors')\n",
        "plt.grid(True)\n",
        "plt.show()\n"
      ],
      "metadata": {
        "colab": {
          "base_uri": "https://localhost:8080/",
          "height": 1000
        },
        "id": "xC-gfKggjQmG",
        "outputId": "00b172da-01db-42f7-978d-f48f698bbd8b"
      },
      "execution_count": null,
      "outputs": [
        {
          "output_type": "stream",
          "name": "stdout",
          "text": [
            "📊 Model Evaluation Metrics:\n",
            "Mean Absolute Error (MAE): 8.31 months\n",
            "Mean Squared Error (MSE): 115.93\n",
            "R2 Score: 0.9345\n"
          ]
        },
        {
          "output_type": "display_data",
          "data": {
            "text/plain": [
              "<Figure size 800x600 with 1 Axes>"
            ],
            "image/png": "[encoded data removed]"
          },
          "metadata": {}
        },
        {
          "output_type": "display_data",
          "data": {
            "text/plain": [
              "<Figure size 800x600 with 1 Axes>"
            ],
            "image/png": "[encoded data removed]"
          },
          "metadata": {}
        }
      ]
    },
    {
      "cell_type": "code",
      "source": [
        "# 🧪 Classification Metrics for Regression Task (Bone Age Ranges)\n",
        "\n",
        "from sklearn.metrics import classification_report, confusion_matrix, ConfusionMatrixDisplay\n",
        "import numpy as np\n",
        "import torch\n",
        "import matplotlib.pyplot as plt\n",
        "\n",
        "# Define bone age classes (ranges in months)\n",
        "def age_to_class(age):\n",
        "    if age < 24:\n",
        "        return 0  # 0-24 months\n",
        "    elif age < 48:\n",
        "        return 1  # 24-48 months\n",
        "    elif age < 72:\n",
        "        return 2  # 48-72 months\n",
        "    elif age < 96:\n",
        "        return 3  # 72-96 months\n",
        "    elif age < 120:\n",
        "        return 4  # 96-120 months\n",
        "    elif age < 144:\n",
        "        return 5  # 120-144 months\n",
        "    else:\n",
        "        return 6  # >144 months\n",
        "\n",
        "# ✅ Collect predictions and true targets (Validation)\n",
        "model.eval()\n",
        "val_preds = []\n",
        "val_targets = []\n",
        "\n",
        "with torch.no_grad():\n",
        "    for images, tabular_data, targets in val_loader:\n",
        "        images = images.to(device)\n",
        "        tabular_data = tabular_data.to(device)\n",
        "        targets = targets.to(device)\n",
        "\n",
        "        outputs = model(images, tabular_data)\n",
        "\n",
        "        val_preds.extend(outputs.cpu().numpy())\n",
        "        val_targets.extend(targets.cpu().numpy())\n",
        "\n",
        "# Convert predictions and targets to numpy arrays\n",
        "val_preds = np.array(val_preds)\n",
        "val_targets = np.array(val_targets)\n",
        "\n",
        "# Convert ages to classes\n",
        "val_preds_class = np.array([age_to_class(x) for x in val_preds])\n",
        "val_targets_class = np.array([age_to_class(x) for x in val_targets])\n",
        "\n",
        "# 🛠️ Calculate classification report\n",
        "print(\"📊 Classification Report (Validation):\")\n",
        "print(classification_report(val_targets_class, val_preds_class, digits=4))\n",
        "\n",
        "# 🛠️ Calculate and plot confusion matrix\n",
        "cm = confusion_matrix(val_targets_class, val_preds_class)\n",
        "disp = ConfusionMatrixDisplay(confusion_matrix=cm, display_labels=[\n",
        "    '0-24m', '24-48m', '48-72m', '72-96m', '96-120m', '120-144m', '>144m'\n",
        "])\n",
        "fig, ax = plt.subplots(figsize=(8, 6))\n",
        "disp.plot(ax=ax, cmap='Blues', xticks_rotation=45)\n",
        "plt.title(\"Confusion Matrix - Validation Set (Bone Age Classes)\")\n",
        "plt.grid(False)\n",
        "plt.show()\n"
      ],
      "metadata": {
        "colab": {
          "base_uri": "https://localhost:8080/",
          "height": 879
        },
        "id": "VlC3bElBrCw9",
        "outputId": "a121aafe-ca61-479c-cbcf-e58d2ad8d21b"
      },
      "execution_count": null,
      "outputs": [
        {
          "output_type": "stream",
          "name": "stdout",
          "text": [
            "📊 Classification Report (Validation):\n",
            "              precision    recall  f1-score   support\n",
            "\n",
            "           0     0.7083    0.8095    0.7556        21\n",
            "           1     0.7571    0.6974    0.7260        76\n",
            "           2     0.7033    0.7151    0.7091       179\n",
            "           3     0.6767    0.6133    0.6434       331\n",
            "           4     0.4039    0.6482    0.4977       253\n",
            "           5     0.6112    0.6334    0.6221       551\n",
            "           6     0.9536    0.8318    0.8886      1112\n",
            "\n",
            "    accuracy                         0.7289      2523\n",
            "   macro avg     0.6877    0.7070    0.6918      2523\n",
            "weighted avg     0.7617    0.7289    0.7403      2523\n",
            "\n"
          ]
        },
        {
          "output_type": "display_data",
          "data": {
            "text/plain": [
              "<Figure size 800x600 with 2 Axes>"
            ],
            "image/png": "[encoded data removed]"
          },
          "metadata": {}
        }
      ]
    },
    {
      "cell_type": "markdown",
      "source": [
        "#Creating a function to calculate Height"
      ],
      "metadata": {
        "id": "8kUTDBlvwLvI"
      }
    },
    {
      "cell_type": "code",
      "source": [
        "# 🧮 Predict Final Height based on Bone Age, Chronological Age, and Genetic Target\n",
        "\n",
        "def predict_final_height_from_inputs(\n",
        "    age_chronological_years,\n",
        "    bone_age_years,\n",
        "    current_height,\n",
        "    father_height,\n",
        "    mother_height,\n",
        "    sex\n",
        "):\n",
        "    \"\"\"\n",
        "    Predict final height based on bone age, chronological age, current height, and genetic target.\n",
        "    \"\"\"\n",
        "\n",
        "    # Step 1: Calculate Genetic Target and Genetic Band\n",
        "    if sex.upper() == 'M':\n",
        "        target_height = (father_height + mother_height + 13) / 2\n",
        "        genetic_band = 8.5\n",
        "    elif sex.upper() == 'F':\n",
        "        target_height = (father_height + mother_height - 13) / 2\n",
        "        genetic_band = 8.0\n",
        "    else:\n",
        "        raise ValueError(\"Sex must be 'M' or 'F'.\")\n",
        "\n",
        "    # Step 2: Assess Maturity Status\n",
        "    maturity_gap_months = (bone_age_years - age_chronological_years) * 12\n",
        "    if maturity_gap_months > 12:\n",
        "        maturity_status = \"Advanced Maturity\"\n",
        "    elif maturity_gap_months < -12:\n",
        "        maturity_status = \"Delayed Maturity\"\n",
        "    else:\n",
        "        maturity_status = \"Normal Maturity\"\n",
        "\n",
        "    # Step 3: Estimate residual growth (simplified table based on bone age)\n",
        "    def estimate_residual_growth(bone_age_years):\n",
        "        if bone_age_years <= 11:\n",
        "            return 22.5\n",
        "        elif bone_age_years <= 12:\n",
        "            return 19.5\n",
        "        elif bone_age_years <= 13:\n",
        "            return 15.0\n",
        "        elif bone_age_years <= 14:\n",
        "            return 10.0\n",
        "        elif bone_age_years <= 15:\n",
        "            return 5.0\n",
        "        elif bone_age_years <= 16:\n",
        "            return 2.0\n",
        "        else:\n",
        "            return 0.0\n",
        "\n",
        "    expected_growth = estimate_residual_growth(bone_age_years)\n",
        "\n",
        "    # Step 4: Predict final height\n",
        "    predicted_final_height = current_height + expected_growth\n",
        "\n",
        "    # Step 5: Apply Genetic Target Band (clip if necessary)\n",
        "    lower_limit = target_height - genetic_band\n",
        "    upper_limit = target_height + genetic_band\n",
        "\n",
        "    if predicted_final_height > upper_limit:\n",
        "        predicted_final_height = upper_limit\n",
        "    elif predicted_final_height < lower_limit:\n",
        "        predicted_final_height = lower_limit\n",
        "\n",
        "    # Step 6: Return Results\n",
        "    results = {\n",
        "        \"Maturity Status\": maturity_status,\n",
        "        \"Expected Growth (cm)\": round(expected_growth, 1),\n",
        "        \"Predicted Final Height (cm)\": round(predicted_final_height, 1),\n",
        "        \"Genetic Target Height (cm)\": round(target_height, 1),\n",
        "        \"Allowed Range (cm)\": f\"{round(lower_limit,1)} - {round(upper_limit,1)}\"\n",
        "    }\n",
        "\n",
        "    return results\n"
      ],
      "metadata": {
        "id": "rOmBIpbOwOxl"
      },
      "execution_count": null,
      "outputs": []
    },
    {
      "cell_type": "markdown",
      "source": [
        "# Create a front end for uploading X-Ray and user data"
      ],
      "metadata": {
        "id": "3czIJF-KxYc1"
      }
    },
    {
      "cell_type": "code",
      "source": [
        "!pip install gradio\n"
      ],
      "metadata": {
        "colab": {
          "base_uri": "https://localhost:8080/"
        },
        "id": "zRg5rLj9xaqQ",
        "outputId": "8b93a83e-9808-4624-ad28-258e24dec97f"
      },
      "execution_count": null,
      "outputs": [
        {
          "output_type": "stream",
          "name": "stdout",
          "text": [
            "Collecting gradio\n",
            "  Downloading gradio-5.27.0-py3-none-any.whl.metadata (16 kB)\n",
            "Collecting aiofiles<25.0,>=22.0 (from gradio)\n",
            "  Downloading aiofiles-24.1.0-py3-none-any.whl.metadata (10 kB)\n",
            "Requirement already satisfied: anyio<5.0,>=3.0 in /usr/local/lib/python3.11/dist-packages (from gradio) (4.9.0)\n",
            "Collecting fastapi<1.0,>=0.115.2 (from gradio)\n",
            "  Downloading fastapi-0.115.12-py3-none-any.whl.metadata (27 kB)\n",
            "Collecting ffmpy (from gradio)\n",
            "  Downloading ffmpy-0.5.0-py3-none-any.whl.metadata (3.0 kB)\n",
            "Collecting gradio-client==1.9.0 (from gradio)\n",
            "  Downloading gradio_client-1.9.0-py3-none-any.whl.metadata (7.1 kB)\n",
            "Collecting groovy~=0.1 (from gradio)\n",
            "  Downloading groovy-0.1.2-py3-none-any.whl.metadata (6.1 kB)\n",
            "Requirement already satisfied: httpx>=0.24.1 in /usr/local/lib/python3.11/dist-packages (from gradio) (0.28.1)\n",
            "Requirement already satisfied: huggingface-hub>=0.28.1 in /usr/local/lib/python3.11/dist-packages (from gradio) (0.30.2)\n",
            "Requirement already satisfied: jinja2<4.0 in /usr/local/lib/python3.11/dist-packages (from gradio) (3.1.6)\n",
            "Requirement already satisfied: markupsafe<4.0,>=2.0 in /usr/local/lib/python3.11/dist-packages (from gradio) (3.0.2)\n",
            "Requirement already satisfied: numpy<3.0,>=1.0 in /usr/local/lib/python3.11/dist-packages (from gradio) (2.0.2)\n",
            "Requirement already satisfied: orjson~=3.0 in /usr/local/lib/python3.11/dist-packages (from gradio) (3.10.16)\n",
            "Requirement already satisfied: packaging in /usr/local/lib/python3.11/dist-packages (from gradio) (24.2)\n",
            "Requirement already satisfied: pandas<3.0,>=1.0 in /usr/local/lib/python3.11/dist-packages (from gradio) (2.2.2)\n",
            "Requirement already satisfied: pillow<12.0,>=8.0 in /usr/local/lib/python3.11/dist-packages (from gradio) (11.1.0)\n",
            "Requirement already satisfied: pydantic<2.12,>=2.0 in /usr/local/lib/python3.11/dist-packages (from gradio) (2.11.3)\n",
            "Collecting pydub (from gradio)\n",
            "  Downloading pydub-0.25.1-py2.py3-none-any.whl.metadata (1.4 kB)\n",
            "Collecting python-multipart>=0.0.18 (from gradio)\n",
            "  Downloading python_multipart-0.0.20-py3-none-any.whl.metadata (1.8 kB)\n",
            "Requirement already satisfied: pyyaml<7.0,>=5.0 in /usr/local/lib/python3.11/dist-packages (from gradio) (6.0.2)\n",
            "Collecting ruff>=0.9.3 (from gradio)\n",
            "  Downloading ruff-0.11.7-py3-none-manylinux_2_17_x86_64.manylinux2014_x86_64.whl.metadata (25 kB)\n",
            "Collecting safehttpx<0.2.0,>=0.1.6 (from gradio)\n",
            "  Downloading safehttpx-0.1.6-py3-none-any.whl.metadata (4.2 kB)\n",
            "Collecting semantic-version~=2.0 (from gradio)\n",
            "  Downloading semantic_version-2.10.0-py2.py3-none-any.whl.metadata (9.7 kB)\n",
            "Collecting starlette<1.0,>=0.40.0 (from gradio)\n",
            "  Downloading starlette-0.46.2-py3-none-any.whl.metadata (6.2 kB)\n",
            "Collecting tomlkit<0.14.0,>=0.12.0 (from gradio)\n",
            "  Downloading tomlkit-0.13.2-py3-none-any.whl.metadata (2.7 kB)\n",
            "Requirement already satisfied: typer<1.0,>=0.12 in /usr/local/lib/python3.11/dist-packages (from gradio) (0.15.2)\n",
            "Requirement already satisfied: typing-extensions~=4.0 in /usr/local/lib/python3.11/dist-packages (from gradio) (4.13.2)\n",
            "Collecting uvicorn>=0.14.0 (from gradio)\n",
            "  Downloading uvicorn-0.34.2-py3-none-any.whl.metadata (6.5 kB)\n",
            "Requirement already satisfied: fsspec in /usr/local/lib/python3.11/dist-packages (from gradio-client==1.9.0->gradio) (2025.3.2)\n",
            "Requirement already satisfied: websockets<16.0,>=10.0 in /usr/local/lib/python3.11/dist-packages (from gradio-client==1.9.0->gradio) (15.0.1)\n",
            "Requirement already satisfied: idna>=2.8 in /usr/local/lib/python3.11/dist-packages (from anyio<5.0,>=3.0->gradio) (3.10)\n",
            "Requirement already satisfied: sniffio>=1.1 in /usr/local/lib/python3.11/dist-packages (from anyio<5.0,>=3.0->gradio) (1.3.1)\n",
            "Requirement already satisfied: certifi in /usr/local/lib/python3.11/dist-packages (from httpx>=0.24.1->gradio) (2025.1.31)\n",
            "Requirement already satisfied: httpcore==1.* in /usr/local/lib/python3.11/dist-packages (from httpx>=0.24.1->gradio) (1.0.8)\n",
            "Requirement already satisfied: h11<0.15,>=0.13 in /usr/local/lib/python3.11/dist-packages (from httpcore==1.*->httpx>=0.24.1->gradio) (0.14.0)\n",
            "Requirement already satisfied: filelock in /usr/local/lib/python3.11/dist-packages (from huggingface-hub>=0.28.1->gradio) (3.18.0)\n",
            "Requirement already satisfied: requests in /usr/local/lib/python3.11/dist-packages (from huggingface-hub>=0.28.1->gradio) (2.32.3)\n",
            "Requirement already satisfied: tqdm>=4.42.1 in /usr/local/lib/python3.11/dist-packages (from huggingface-hub>=0.28.1->gradio) (4.67.1)\n",
            "Requirement already satisfied: python-dateutil>=2.8.2 in /usr/local/lib/python3.11/dist-packages (from pandas<3.0,>=1.0->gradio) (2.8.2)\n",
            "Requirement already satisfied: pytz>=2020.1 in /usr/local/lib/python3.11/dist-packages (from pandas<3.0,>=1.0->gradio) (2025.2)\n",
            "Requirement already satisfied: tzdata>=2022.7 in /usr/local/lib/python3.11/dist-packages (from pandas<3.0,>=1.0->gradio) (2025.2)\n",
            "Requirement already satisfied: annotated-types>=0.6.0 in /usr/local/lib/python3.11/dist-packages (from pydantic<2.12,>=2.0->gradio) (0.7.0)\n",
            "Requirement already satisfied: pydantic-core==2.33.1 in /usr/local/lib/python3.11/dist-packages (from pydantic<2.12,>=2.0->gradio) (2.33.1)\n",
            "Requirement already satisfied: typing-inspection>=0.4.0 in /usr/local/lib/python3.11/dist-packages (from pydantic<2.12,>=2.0->gradio) (0.4.0)\n",
            "Requirement already satisfied: click>=8.0.0 in /usr/local/lib/python3.11/dist-packages (from typer<1.0,>=0.12->gradio) (8.1.8)\n",
            "Requirement already satisfied: shellingham>=1.3.0 in /usr/local/lib/python3.11/dist-packages (from typer<1.0,>=0.12->gradio) (1.5.4)\n",
            "Requirement already satisfied: rich>=10.11.0 in /usr/local/lib/python3.11/dist-packages (from typer<1.0,>=0.12->gradio) (13.9.4)\n",
            "Requirement already satisfied: six>=1.5 in /usr/local/lib/python3.11/dist-packages (from python-dateutil>=2.8.2->pandas<3.0,>=1.0->gradio) (1.17.0)\n",
            "Requirement already satisfied: markdown-it-py>=2.2.0 in /usr/local/lib/python3.11/dist-packages (from rich>=10.11.0->typer<1.0,>=0.12->gradio) (3.0.0)\n",
            "Requirement already satisfied: pygments<3.0.0,>=2.13.0 in /usr/local/lib/python3.11/dist-packages (from rich>=10.11.0->typer<1.0,>=0.12->gradio) (2.18.0)\n",
            "Requirement already satisfied: charset-normalizer<4,>=2 in /usr/local/lib/python3.11/dist-packages (from requests->huggingface-hub>=0.28.1->gradio) (3.4.1)\n",
            "Requirement already satisfied: urllib3<3,>=1.21.1 in /usr/local/lib/python3.11/dist-packages (from requests->huggingface-hub>=0.28.1->gradio) (2.3.0)\n",
            "Requirement already satisfied: mdurl~=0.1 in /usr/local/lib/python3.11/dist-packages (from markdown-it-py>=2.2.0->rich>=10.11.0->typer<1.0,>=0.12->gradio) (0.1.2)\n",
            "Downloading gradio-5.27.0-py3-none-any.whl (54.0 MB)\n",
            "\u001b[2K   \u001b[90m━━━━━━━━━━━━━━━━━━━━━━━━━━━━━━━━━━━━━━━━\u001b[0m \u001b[32m54.0/54.0 MB\u001b[0m \u001b[31m46.1 MB/s\u001b[0m eta \u001b[36m0:00:00\u001b[0m\n",
            "\u001b[?25hDownloading gradio_client-1.9.0-py3-none-any.whl (322 kB)\n",
            "\u001b[2K   \u001b[90m━━━━━━━━━━━━━━━━━━━━━━━━━━━━━━━━━━━━━━━━\u001b[0m \u001b[32m322.6/322.6 kB\u001b[0m \u001b[31m28.0 MB/s\u001b[0m eta \u001b[36m0:00:00\u001b[0m\n",
            "\u001b[?25hDownloading aiofiles-24.1.0-py3-none-any.whl (15 kB)\n",
            "Downloading fastapi-0.115.12-py3-none-any.whl (95 kB)\n",
            "\u001b[2K   \u001b[90m━━━━━━━━━━━━━━━━━━━━━━━━━━━━━━━━━━━━━━━━\u001b[0m \u001b[32m95.2/95.2 kB\u001b[0m \u001b[31m9.2 MB/s\u001b[0m eta \u001b[36m0:00:00\u001b[0m\n",
            "\u001b[?25hDownloading groovy-0.1.2-py3-none-any.whl (14 kB)\n",
            "Downloading python_multipart-0.0.20-py3-none-any.whl (24 kB)\n",
            "Downloading ruff-0.11.7-py3-none-manylinux_2_17_x86_64.manylinux2014_x86_64.whl (11.5 MB)\n",
            "\u001b[2K   \u001b[90m━━━━━━━━━━━━━━━━━━━━━━━━━━━━━━━━━━━━━━━━\u001b[0m \u001b[32m11.5/11.5 MB\u001b[0m \u001b[31m135.3 MB/s\u001b[0m eta \u001b[36m0:00:00\u001b[0m\n",
            "\u001b[?25hDownloading safehttpx-0.1.6-py3-none-any.whl (8.7 kB)\n",
            "Downloading semantic_version-2.10.0-py2.py3-none-any.whl (15 kB)\n",
            "Downloading starlette-0.46.2-py3-none-any.whl (72 kB)\n",
            "\u001b[2K   \u001b[90m━━━━━━━━━━━━━━━━━━━━━━━━━━━━━━━━━━━━━━━━\u001b[0m \u001b[32m72.0/72.0 kB\u001b[0m \u001b[31m7.5 MB/s\u001b[0m eta \u001b[36m0:00:00\u001b[0m\n",
            "\u001b[?25hDownloading tomlkit-0.13.2-py3-none-any.whl (37 kB)\n",
            "Downloading uvicorn-0.34.2-py3-none-any.whl (62 kB)\n",
            "\u001b[2K   \u001b[90m━━━━━━━━━━━━━━━━━━━━━━━━━━━━━━━━━━━━━━━━\u001b[0m \u001b[32m62.5/62.5 kB\u001b[0m \u001b[31m5.5 MB/s\u001b[0m eta \u001b[36m0:00:00\u001b[0m\n",
            "\u001b[?25hDownloading ffmpy-0.5.0-py3-none-any.whl (6.0 kB)\n",
            "Downloading pydub-0.25.1-py2.py3-none-any.whl (32 kB)\n",
            "Installing collected packages: pydub, uvicorn, tomlkit, semantic-version, ruff, python-multipart, groovy, ffmpy, aiofiles, starlette, safehttpx, gradio-client, fastapi, gradio\n",
            "Successfully installed aiofiles-24.1.0 fastapi-0.115.12 ffmpy-0.5.0 gradio-5.27.0 gradio-client-1.9.0 groovy-0.1.2 pydub-0.25.1 python-multipart-0.0.20 ruff-0.11.7 safehttpx-0.1.6 semantic-version-2.10.0 starlette-0.46.2 tomlkit-0.13.2 uvicorn-0.34.2\n"
          ]
        }
      ]
    },
    {
      "cell_type": "code",
      "source": [
        "# 🏥 Gradio App: Upload X-ray ➔ Predict Bone Age ➔ Predict Final Height\n",
        "\n",
        "import gradio as gr\n",
        "import torch\n",
        "import torch.nn as nn\n",
        "import numpy as np\n",
        "from torchvision import transforms\n",
        "from torchvision.models import convnext_tiny\n",
        "from PIL import Image\n",
        "\n",
        "# ✅ Correct Model Architecture matching training\n",
        "class BoneAgeFullModel(nn.Module):\n",
        "    def __init__(self):\n",
        "        super(BoneAgeFullModel, self).__init__()\n",
        "\n",
        "        self.cnn = convnext_tiny(pretrained=False)\n",
        "        self.cnn.classifier = nn.Identity()\n",
        "\n",
        "        self.tabular_net = nn.Sequential(\n",
        "            nn.Linear(1, 32),\n",
        "            nn.ReLU(),\n",
        "            nn.Linear(32, 16),\n",
        "            nn.ReLU()\n",
        "        )\n",
        "\n",
        "        self.combined_fc = nn.Sequential(\n",
        "            nn.Linear(768 + 16, 128),\n",
        "            nn.ReLU(),\n",
        "            nn.Linear(128, 1)\n",
        "        )\n",
        "\n",
        "    def forward(self, image, tabular):\n",
        "        img_features = self.cnn(image)\n",
        "        img_features = img_features.mean(dim=[2, 3])  # Global Average Pooling\n",
        "        tabular_features = self.tabular_net(tabular)\n",
        "        combined = torch.cat((img_features, tabular_features), dim=1)\n",
        "        output = self.combined_fc(combined)\n",
        "        return output.squeeze(1)\n",
        "\n",
        "# ✅ Load trained model\n",
        "device = torch.device('cuda' if torch.cuda.is_available() else 'cpu')\n",
        "model = BoneAgeFullModel()\n",
        "model.load_state_dict(torch.load('/content/drive/MyDrive/bone_age_project/best_model.pth', map_location=device))\n",
        "model = model.to(device)\n",
        "model.eval()\n",
        "\n",
        "# ✅ Image preprocessing (same as during training)\n",
        "image_transforms = transforms.Compose([\n",
        "    transforms.Resize((224, 224)),\n",
        "    transforms.ToTensor(),\n",
        "    transforms.Normalize(mean=[0.485, 0.456, 0.406], std=[0.229, 0.224, 0.225])\n",
        "])\n",
        "\n",
        "# ✅ Predict Bone Age from X-ray\n",
        "def predict_bone_age_from_image(image_np):\n",
        "    img = Image.fromarray(image_np).convert('RGB')\n",
        "    img = image_transforms(img).unsqueeze(0).to(device)\n",
        "\n",
        "    # Dummy input for tabular\n",
        "    tabular_dummy = torch.zeros((1, 1)).to(device)\n",
        "\n",
        "    with torch.no_grad():\n",
        "        bone_age_months = model(img, tabular_dummy).cpu().numpy().flatten()[0]\n",
        "    return bone_age_months\n",
        "\n",
        "# ✅ New Final Height Prediction (no Pinney multipliers)\n",
        "def predict_final_height_from_inputs(\n",
        "    age_chronological_years,\n",
        "    bone_age_years,\n",
        "    current_height,\n",
        "    father_height,\n",
        "    mother_height,\n",
        "    sex\n",
        "):\n",
        "    # Step 1: Calculate Genetic Target and Band\n",
        "    if sex.upper() == 'M':\n",
        "        target_height = (father_height + mother_height + 13) / 2\n",
        "        genetic_band = 8.5\n",
        "    elif sex.upper() == 'F':\n",
        "        target_height = (father_height + mother_height - 13) / 2\n",
        "        genetic_band = 8.0\n",
        "    else:\n",
        "        raise ValueError(\"Sex must be 'M' or 'F'.\")\n",
        "\n",
        "    # Step 2: Assess maturity\n",
        "    maturity_gap_months = (bone_age_years - age_chronological_years) * 12\n",
        "    if maturity_gap_months > 12:\n",
        "        maturity_status = \"Advanced Maturity\"\n",
        "    elif maturity_gap_months < -12:\n",
        "        maturity_status = \"Delayed Maturity\"\n",
        "    else:\n",
        "        maturity_status = \"Normal Maturity\"\n",
        "\n",
        "    # Step 3: Estimate residual growth (custom table)\n",
        "    def estimate_residual_growth(bone_age_years):\n",
        "        if bone_age_years <= 11:\n",
        "            return 22.5\n",
        "        elif bone_age_years <= 12:\n",
        "            return 19.5\n",
        "        elif bone_age_years <= 13:\n",
        "            return 15.0\n",
        "        elif bone_age_years <= 14:\n",
        "            return 10.0\n",
        "        elif bone_age_years <= 15:\n",
        "            return 5.0\n",
        "        elif bone_age_years <= 16:\n",
        "            return 2.0\n",
        "        else:\n",
        "            return 0.0\n",
        "\n",
        "    expected_growth = estimate_residual_growth(bone_age_years)\n",
        "\n",
        "    # Step 4: Predict final height\n",
        "    predicted_final_height = current_height + expected_growth\n",
        "\n",
        "    # Step 5: Clip by genetic target range\n",
        "    lower_limit = target_height - genetic_band\n",
        "    upper_limit = target_height + genetic_band\n",
        "\n",
        "    if predicted_final_height > upper_limit:\n",
        "        predicted_final_height = upper_limit\n",
        "    elif predicted_final_height < lower_limit:\n",
        "        predicted_final_height = lower_limit\n",
        "\n",
        "    results = {\n",
        "        \"Maturity Status\": maturity_status,\n",
        "        \"Expected Growth (cm)\": round(expected_growth, 1),\n",
        "        \"Predicted Final Height (cm)\": round(predicted_final_height, 1),\n",
        "        \"Genetic Target Height (cm)\": round(target_height, 1),\n",
        "        \"Allowed Range (cm)\": f\"{round(lower_limit,1)} - {round(upper_limit,1)}\"\n",
        "    }\n",
        "\n",
        "    return results\n",
        "\n",
        "# ✅ Gradio function to connect everything\n",
        "def gradio_predict_final_height(xray_image, age_chronological_months, current_height, father_height, mother_height, sex):\n",
        "    try:\n",
        "        # Step 1: Predict Bone Age\n",
        "        bone_age_months = predict_bone_age_from_image(xray_image)\n",
        "        bone_age_years = bone_age_months / 12\n",
        "        age_chronological_years = age_chronological_months / 12\n",
        "\n",
        "        # Step 2: Predict Final Height\n",
        "        results = predict_final_height_from_inputs(\n",
        "            age_chronological_years=age_chronological_years,\n",
        "            bone_age_years=bone_age_years,\n",
        "            current_height=float(current_height),\n",
        "            father_height=float(father_height),\n",
        "            mother_height=float(mother_height),\n",
        "            sex=sex\n",
        "        )\n",
        "\n",
        "        # Step 3: Format output\n",
        "        output_text = f\"\"\"🧠 Maturity Status: {results['Maturity Status']}\n",
        "\n",
        "🖼️ Predicted Bone Age from X-ray: {round(bone_age_months,1)} months\n",
        "\n",
        "📈 Expected Growth Remaining: {results['Expected Growth (cm)']} cm\n",
        "📏 Predicted Final Height: {results['Predicted Final Height (cm)']} cm\n",
        "🎯 Genetic Target Height: {results['Genetic Target Height (cm)']} cm\n",
        "📊 Allowed Range: {results['Allowed Range (cm)']}\n",
        "\"\"\"\n",
        "        return output_text\n",
        "    except Exception as e:\n",
        "        return f\"❌ Error: {str(e)}\"\n",
        "\n",
        "# 🎛️ Gradio Interface\n",
        "iface = gr.Interface(\n",
        "    fn=gradio_predict_final_height,\n",
        "    inputs=[\n",
        "        gr.Image(type=\"numpy\", label=\"Upload Hand X-ray\"),\n",
        "        gr.Number(label=\"Chronological Age (in months)\"),\n",
        "        gr.Number(label=\"Current Height (in cm)\"),\n",
        "        gr.Number(label=\"Father's Height (in cm)\"),\n",
        "        gr.Number(label=\"Mother's Height (in cm)\"),\n",
        "        gr.Radio([\"M\", \"F\"], label=\"Sex (M/F)\")\n",
        "    ],\n",
        "    outputs=\"text\",\n",
        "    title=\"🏥 Bone Age ➔ Final Height Predictor (Corrected Model)\",\n",
        "    description=\"Upload a hand X-ray to predict bone age automatically, then input basic info to estimate expected final adult height based on growth tables.\"\n",
        ")\n",
        "\n",
        "iface.launch(debug=True)\n"
      ],
      "metadata": {
        "colab": {
          "base_uri": "https://localhost:8080/",
          "height": 756
        },
        "id": "9p_sKEZVASN8",
        "outputId": "367909d1-a7bd-4dba-e84d-35db8331eae5"
      },
      "execution_count": null,
      "outputs": [
        {
          "metadata": {
            "tags": null
          },
          "name": "stderr",
          "output_type": "stream",
          "text": [
            "/usr/local/lib/python3.11/dist-packages/torchvision/models/_utils.py:208: UserWarning: The parameter 'pretrained' is deprecated since 0.13 and may be removed in the future, please use 'weights' instead.\n",
            "  warnings.warn(\n",
            "/usr/local/lib/python3.11/dist-packages/torchvision/models/_utils.py:223: UserWarning: Arguments other than a weight enum or `None` for 'weights' are deprecated since 0.13 and may be removed in the future. The current behavior is equivalent to passing `weights=None`.\n",
            "  warnings.warn(msg)\n"
          ]
        },
        {
          "metadata": {
            "tags": null
          },
          "name": "stdout",
          "output_type": "stream",
          "text": [
            "It looks like you are running Gradio on a hosted a Jupyter notebook. For the Gradio app to work, sharing must be enabled. Automatically setting `share=True` (you can turn this off by setting `share=False` in `launch()` explicitly).\n",
            "\n",
            "Colab notebook detected. This cell will run indefinitely so that you can see errors and logs. To turn off, set debug=False in launch().\n",
            "* Running on public URL: https://a525f3be2fe636d85c.gradio.live\n",
            "\n",
            "This share link expires in 1 week. For free permanent hosting and GPU upgrades, run `gradio deploy` from the terminal in the working directory to deploy to Hugging Face Spaces (https://huggingface.co/spaces)\n"
          ]
        },
        {
          "data": {
            "text/html": [
              "<div><iframe src=\"https://a525f3be2fe636d85c.gradio.live\" width=\"100%\" height=\"500\" allow=\"autoplay; camera; microphone; clipboard-read; clipboard-write;\" frameborder=\"0\" allowfullscreen></iframe></div>"
            ],
            "text/plain": [
              "<IPython.core.display.HTML object>"
            ]
          },
          "metadata": {},
          "output_type": "display_data"
        },
        {
          "output_type": "stream",
          "name": "stdout",
          "text": [
            "Keyboard interruption in main thread... closing server.\n",
            "Killing tunnel 127.0.0.1:7860 <> https://a525f3be2fe636d85c.gradio.live\n"
          ]
        },
        {
          "output_type": "execute_result",
          "data": {
            "text/plain": []
          },
          "metadata": {},
          "execution_count": 25
        }
      ]
    }
  ]
}